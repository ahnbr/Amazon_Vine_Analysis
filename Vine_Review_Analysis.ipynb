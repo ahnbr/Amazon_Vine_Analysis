{
  "nbformat": 4,
  "nbformat_minor": 0,
  "metadata": {
    "colab": {
      "name": "Vine_Review_Analysis.ipynb",
      "provenance": [],
      "collapsed_sections": []
    },
    "kernelspec": {
      "name": "python3",
      "display_name": "Python 3"
    }
  },
  "cells": [
    {
      "cell_type": "code",
      "metadata": {
        "colab": {
          "base_uri": "https://localhost:8080/"
        },
        "id": "0YjT2ez0nurg",
        "outputId": "bc5fcbb7-f8ae-4dfa-ac2c-6ebbd55e3435"
      },
      "source": [
        "import os\n",
        "# Find the latest version of spark 2.0  from http://www-us.apache.org/dist/spark/ and enter as the spark version\n",
        "# For example:\n",
        "# spark_version = 'spark-3.0.0'\n",
        "spark_version = 'spark-3.0.1'\n",
        "os.environ['SPARK_VERSION']=spark_version\n",
        "\n",
        "# Install Spark and Java\n",
        "!apt-get update\n",
        "!apt-get install openjdk-11-jdk-headless -qq > /dev/null\n",
        "!wget -q http://www-us.apache.org/dist/spark/$SPARK_VERSION/$SPARK_VERSION-bin-hadoop2.7.tgz\n",
        "!tar xf $SPARK_VERSION-bin-hadoop2.7.tgz\n",
        "!pip install -q findspark\n",
        "\n",
        "# Set Environment Variables\n",
        "import os\n",
        "os.environ[\"JAVA_HOME\"] = \"/usr/lib/jvm/java-11-openjdk-amd64\"\n",
        "os.environ[\"SPARK_HOME\"] = f\"/content/{spark_version}-bin-hadoop2.7\"\n",
        "\n",
        "# Start a SparkSession\n",
        "import findspark\n",
        "findspark.init()"
      ],
      "execution_count": 1,
      "outputs": [
        {
          "output_type": "stream",
          "text": [
            "\r0% [Working]\r            \rGet:1 https://cloud.r-project.org/bin/linux/ubuntu bionic-cran40/ InRelease [3,626 B]\n",
            "\r0% [Connecting to archive.ubuntu.com (91.189.88.142)] [Connecting to security.u\r0% [Connecting to archive.ubuntu.com (91.189.88.142)] [Connecting to security.u\r0% [1 InRelease gpgv 3,626 B] [Connecting to archive.ubuntu.com (91.189.88.142)\r                                                                               \rIgn:2 https://developer.download.nvidia.com/compute/cuda/repos/ubuntu1804/x86_64  InRelease\n",
            "\r0% [1 InRelease gpgv 3,626 B] [Connecting to archive.ubuntu.com (91.189.88.142)\r                                                                               \rIgn:3 https://developer.download.nvidia.com/compute/machine-learning/repos/ubuntu1804/x86_64  InRelease\n",
            "\r0% [1 InRelease gpgv 3,626 B] [Waiting for headers] [Waiting for headers] [Wait\r                                                                               \rGet:4 https://developer.download.nvidia.com/compute/cuda/repos/ubuntu1804/x86_64  Release [697 B]\n",
            "\r0% [1 InRelease gpgv 3,626 B] [Waiting for headers] [Waiting for headers] [Wait\r0% [1 InRelease gpgv 3,626 B] [Waiting for headers] [Waiting for headers] [Wait\r                                                                               \rHit:5 https://developer.download.nvidia.com/compute/machine-learning/repos/ubuntu1804/x86_64  Release\n",
            "Get:6 https://developer.download.nvidia.com/compute/cuda/repos/ubuntu1804/x86_64  Release.gpg [836 B]\n",
            "Get:7 http://security.ubuntu.com/ubuntu bionic-security InRelease [88.7 kB]\n",
            "Get:8 http://ppa.launchpad.net/c2d4u.team/c2d4u4.0+/ubuntu bionic InRelease [15.9 kB]\n",
            "Hit:9 http://archive.ubuntu.com/ubuntu bionic InRelease\n",
            "Get:10 http://archive.ubuntu.com/ubuntu bionic-updates InRelease [88.7 kB]\n",
            "Get:11 https://cloud.r-project.org/bin/linux/ubuntu bionic-cran40/ Packages [44.4 kB]\n",
            "Hit:13 http://ppa.launchpad.net/cran/libgit2/ubuntu bionic InRelease\n",
            "Get:14 http://archive.ubuntu.com/ubuntu bionic-backports InRelease [74.6 kB]\n",
            "Ign:15 https://developer.download.nvidia.com/compute/cuda/repos/ubuntu1804/x86_64  Packages\n",
            "Get:15 https://developer.download.nvidia.com/compute/cuda/repos/ubuntu1804/x86_64  Packages [549 kB]\n",
            "Get:16 http://ppa.launchpad.net/graphics-drivers/ppa/ubuntu bionic InRelease [21.3 kB]\n",
            "Get:17 http://ppa.launchpad.net/c2d4u.team/c2d4u4.0+/ubuntu bionic/main Sources [1,718 kB]\n",
            "Get:18 http://security.ubuntu.com/ubuntu bionic-security/universe amd64 Packages [1,383 kB]\n",
            "Get:19 http://archive.ubuntu.com/ubuntu bionic-updates/main amd64 Packages [2,348 kB]\n",
            "Get:20 http://security.ubuntu.com/ubuntu bionic-security/restricted amd64 Packages [291 kB]\n",
            "Get:21 http://security.ubuntu.com/ubuntu bionic-security/main amd64 Packages [1,908 kB]\n",
            "Get:22 http://ppa.launchpad.net/c2d4u.team/c2d4u4.0+/ubuntu bionic/main amd64 Packages [879 kB]\n",
            "Get:23 http://archive.ubuntu.com/ubuntu bionic-updates/universe amd64 Packages [2,156 kB]\n",
            "Get:24 http://archive.ubuntu.com/ubuntu bionic-updates/multiverse amd64 Packages [42.6 kB]\n",
            "Get:25 http://archive.ubuntu.com/ubuntu bionic-updates/restricted amd64 Packages [323 kB]\n",
            "Get:26 http://ppa.launchpad.net/graphics-drivers/ppa/ubuntu bionic/main amd64 Packages [49.2 kB]\n",
            "Fetched 12.0 MB in 4s (2,831 kB/s)\n",
            "Reading package lists... Done\n"
          ],
          "name": "stdout"
        }
      ]
    },
    {
      "cell_type": "code",
      "metadata": {
        "id": "tUXy8JggoW9v"
      },
      "source": [
        "from pyspark.sql import SparkSession\n",
        "spark = SparkSession.builder.appName(\"BigData-Challenge\").config(\"spark.driver.extraClassPath\",\"/content/postgresql-42.2.16.jar\").getOrCreate()"
      ],
      "execution_count": 2,
      "outputs": []
    },
    {
      "cell_type": "code",
      "metadata": {
        "colab": {
          "base_uri": "https://localhost:8080/"
        },
        "id": "PIHy1W4bqWGk",
        "outputId": "8adfe199-ebee-4581-94a4-f92b77581423"
      },
      "source": [
        "from pyspark import SparkFiles\n",
        "url = \"https://s3.amazonaws.com/amazon-reviews-pds/tsv/amazon_reviews_us_Video_DVD_v1_00.tsv.gz\"\n",
        "spark.sparkContext.addFile(url)\n",
        "df = spark.read.option(\"encoding\", \"UTF-8\").csv(SparkFiles.get(\"\"), sep=\"\\t\", header=True, inferSchema=True)\n",
        "df.show()"
      ],
      "execution_count": 3,
      "outputs": [
        {
          "output_type": "stream",
          "text": [
            "+-----------+-----------+--------------+----------+--------------+--------------------+----------------+-----------+-------------+-----------+----+-----------------+--------------------+--------------------+-----------+\n",
            "|marketplace|customer_id|     review_id|product_id|product_parent|       product_title|product_category|star_rating|helpful_votes|total_votes|vine|verified_purchase|     review_headline|         review_body|review_date|\n",
            "+-----------+-----------+--------------+----------+--------------+--------------------+----------------+-----------+-------------+-----------+----+-----------------+--------------------+--------------------+-----------+\n",
            "|         US|   27288431| R33UPQQUZQEM8|B005T4ND06|     400024643|Yoga for Movement...|       Video DVD|          5|            3|          3|   N|                Y|This was a gift f...|This was a gift f...| 2015-08-31|\n",
            "|         US|   13722556|R3IKTNQQPD9662|B004EPZ070|     685335564|  Something Borrowed|       Video DVD|          5|            0|          0|   N|                Y|          Five Stars| Teats my heart out.| 2015-08-31|\n",
            "|         US|   20381037|R3U27V5QMCP27T|B005S9EKCW|     922008804|Les Miserables (2...|       Video DVD|          5|            1|          1|   N|                Y|        Great movie!|        Great movie.| 2015-08-31|\n",
            "|         US|   24852644|R2TOH2QKNK4IOC|B00FC1ZCB4|     326560548|Alien Anthology a...|       Video DVD|          5|            0|          1|   N|                Y|             Amazing|My husband was so...| 2015-08-31|\n",
            "|         US|   15556113|R2XQG5NJ59UFMY|B002ZG98Z0|     637495038|  Sex and the City 2|       Video DVD|          5|            0|          0|   N|                Y|          Five Stars|   Love this series.| 2015-08-31|\n",
            "|         US|    6132474|R1N1KHBRR4ZTX3|B00X8RONBO|     896602391|When Calls The He...|       Video DVD|          5|            0|          0|   N|                Y|          Five Stars|            love it!| 2015-08-31|\n",
            "|         US|   48049524|R3OM9S0TCBP38K|B000CEXFZG|     115883890|Teen Titans - The...|       Video DVD|          5|            0|          0|   N|                Y|               Great|Better than the c...| 2015-08-31|\n",
            "|         US|    3282516|R1W4S949ZRCTBW|B00ID8H8EW|     977932459|      Generation War|       Video DVD|          5|            0|          0|   N|                Y|          Five Stars|I really emjoyed ...| 2015-08-31|\n",
            "|         US|   51771179|R18JL1NNQAZFV2|B000TGJ8IU|     840084782|Troy  (Director's...|       Video DVD|          5|            0|          0|   N|                Y|          Five Stars|Awesome movie, we...| 2015-08-31|\n",
            "|         US|   31816501|R1LP6PR06OPYUX|B00DPMPTDS|     262144920|Faith Aka the Gre...|       Video DVD|          4|            0|          0|   N|                Y|a beautiful fanta...|...a beautiful fa...| 2015-08-31|\n",
            "|         US|   16164990| RZKBT035JA0UQ|B00X797LUS|     883589001|   Revenge: Season 4|       Video DVD|          5|            1|          2|   N|                Y|  It's a hit with me|I don't usually w...| 2015-08-31|\n",
            "|         US|   33386989|R253N5W74SM7N3|B00C6MXB42|     734735137|YOUNG INDIANA JON...|       Video DVD|          4|            1|          1|   N|                Y|great stuff. I th...|great stuff.  I t...| 2015-08-31|\n",
            "|         US|   45486371|R2D5IFTFPHD3RN|B000EZ9084|     821764517|     Survival Island|       Video DVD|          4|            1|          1|   N|                Y|          Four Stars|           very good| 2015-08-31|\n",
            "|         US|   14006420|R1CECK3H1URK1G|B000CEXFZG|     115883890|Teen Titans - The...|       Video DVD|          5|            0|          0|   N|                Y|          Five Stars|Kids love the DVD...| 2015-08-31|\n",
            "|         US|   23411619|R11MHQRE45204T|B00KXEM6XM|     651533797|     Fargo: Season 1|       Video DVD|          5|            0|          0|   N|                Y|A wonderful cover...|Great news Fargo ...| 2015-08-31|\n",
            "|         US|    3202332| RSX9F068J0GXJ|B0036K9CM8|     231498541|Disney Parks: The...|       Video DVD|          5|            0|          0|   N|                Y|We love Disney an...|We love Disney an...| 2015-08-31|\n",
            "|         US|   32012808|R1TUMFHZBBOWKL|B00G3HOJZ6|     847624020|Young Detective D...|       Video DVD|          5|            0|          0|   N|                Y|Excellent Movie f...|This is a surpris...| 2015-08-31|\n",
            "|         US|   36507765| R8IZ1G1TWGK0E|B00V5E7YR2|     478422254|The Divergent Ser...|       Video DVD|          5|            0|          0|   N|                Y|          Five Stars|          Good movie| 2015-08-31|\n",
            "|         US|   13696097|R1CBN0585B7BI4|B005BUA1JY|     700104332|Barney Miller: Th...|       Video DVD|          5|            0|          1|   N|                Y|          Five Stars|This show is a cl...| 2015-08-31|\n",
            "|         US|    2190805|R2PJOAZ9I3D8O8|B00YCY46VO|     710263340|Inside Out (Blu-r...|       Video DVD|          5|            2|          2|   N|                N|An Instant Master...|Inside Out revolv...| 2015-08-31|\n",
            "+-----------+-----------+--------------+----------+--------------+--------------------+----------------+-----------+-------------+-----------+----+-----------------+--------------------+--------------------+-----------+\n",
            "only showing top 20 rows\n",
            "\n"
          ],
          "name": "stdout"
        }
      ]
    },
    {
      "cell_type": "code",
      "metadata": {
        "id": "W2Eg67muDPpQ"
      },
      "source": [
        "# filtering the data to show total votes greater than or equal to 20\n",
        "vine_df = df.select([\"review_id\",\"star_rating\",\"helpful_votes\",\"total_votes\", \"verified_purchase\", \"vine\"])\n",
        "vote_count = df.filter(\"total_votes >= 20\")\n"
      ],
      "execution_count": 4,
      "outputs": []
    },
    {
      "cell_type": "code",
      "metadata": {
        "colab": {
          "base_uri": "https://localhost:8080/"
        },
        "id": "NJYoQW_bTzoF",
        "outputId": "b8f41ee0-40be-47f3-f713-55c13b02becc"
      },
      "source": [
        "# creating a new DataFrame to retrieve all the rows where the \n",
        "# number of helpful_votes divided by total_votes is equal to or greater than 50%\n",
        "helpful_votes_df = vote_count.filter(vote_count[\"helpful_votes\"]/vote_count[\"total_votes\"]>=0.5)\n",
        "helpful_votes_df.show()"
      ],
      "execution_count": 5,
      "outputs": [
        {
          "output_type": "stream",
          "text": [
            "+-----------+-----------+--------------+----------+--------------+--------------------+----------------+-----------+-------------+-----------+----+-----------------+--------------------+--------------------+-----------+\n",
            "|marketplace|customer_id|     review_id|product_id|product_parent|       product_title|product_category|star_rating|helpful_votes|total_votes|vine|verified_purchase|     review_headline|         review_body|review_date|\n",
            "+-----------+-----------+--------------+----------+--------------+--------------------+----------------+-----------+-------------+-----------+----+-----------------+--------------------+--------------------+-----------+\n",
            "|         US|   44783596|R31EUR60FV3BU5|B00ZGPZR9I|     514136181|  Wodehouse in Exile|       Video DVD|          4|           32|         39|   N|                N|Unfair Accusation...|Amazed after Wode...| 2015-08-31|\n",
            "|         US|   12720421|R3MDX24QDAT0OW|B00ZCHTQGA|     779817400|Northmen - A Viki...|       Video DVD|          4|           35|         37|   N|                N|I wont steer you ...|Do not watch this...| 2015-08-31|\n",
            "|         US|    6402628|R2YVFZB4ESDT7D|B00XUV1B4U|     881344665|Mad Max Anthology...|       Video DVD|          5|          139|        141|   N|                Y|All Four Movies R...|Here's what you'r...| 2015-08-31|\n",
            "|         US|   12160741|R2R8EWH1JUZCSI|B014LIIXZ0|     674775405|War Room (Blu-ray...|       Video DVD|          5|           16|         21|   N|                N|This is a must ha...|An amazing movie ...| 2015-08-31|\n",
            "|         US|   37255383|R3I8GORXGEJL3R|B014GDAVLE|     326486182|           No Escape|       Video DVD|          4|           95|        103|   N|                Y|Owen Lives To Not...|People forget tha...| 2015-08-31|\n",
            "|         US|   44167709| RONWXF0J85CRR|B011MUA5J2|     274516834|Mission: Impossib...|       Video DVD|          5|           42|         50|   N|                N|Original Mission ...|Mission: Impossib...| 2015-08-31|\n",
            "|         US|   46318293|R2QQJIJZIUSQBH|B012O29DR2|     690183613|Little House On T...|       Video DVD|          1|           16|         20|   N|                N|No blu-ray   No p...|I will not purcha...| 2015-08-31|\n",
            "|         US|   38379823|R3O7T74HRIXBE5|B00XOAPFH6|     814178366|Sherlock Holmes (...|       Video DVD|          5|           53|         55|   N|                Y|LOST AND FOUND re...|I have assembled ...| 2015-08-31|\n",
            "|         US|   10415926| RSU37FK0W4DPE|B0112HPTCI|     846758128|           Boulevard|       Video DVD|          4|           26|         28|   N|                N|Very poetic that ...|&#34;Sometimes it...| 2015-08-31|\n",
            "|         US|   28573806|R22H100N6EUD0Y|B00ZGIOL8I|     983780520|Hammer Film Colle...|       Video DVD|          5|           30|         32|   N|                Y|Excellent studio ...|Excellent studio ...| 2015-08-30|\n",
            "|         US|   14636800| R4VC9LDQGIE5K|B0117V8BX8|     226530484|The Collected Wor...|       Video DVD|          5|           26|         37|   N|                N|For those wonderi...|For those wonderi...| 2015-08-30|\n",
            "|         US|   13876058| RWMH3PU2EECVA|B00YQTDJ40|     953802771|            Seashore|       Video DVD|          5|           35|         38|   N|                Y|So much to savor ...|This film is deep...| 2015-08-30|\n",
            "|         US|   52715519|R2XTQWXL65VPOZ|B00SGYZJZS|     477021665|Phoenix (2014) [ ...|       Video DVD|          4|           22|         24|   N|                N|4.5 stars... Anot...|&#34;Phoenix&#34;...| 2015-08-30|\n",
            "|         US|   23055587| RGIM9S035SVIA|B01169X9Z6|     490379100|           Self/less|       Video DVD|          4|           38|         44|   N|                N|Reminiscent of th...|While by no means...| 2015-08-30|\n",
            "|         US|   11650105|R18ZPPQ2CZKG41|B00ZS21LMQ|     507953360|The Man From U.N....|       Video DVD|          5|           16|         20|   N|                N|New Favorite Movi...|This is absolutel...| 2015-08-30|\n",
            "|         US|   51803143|R2FK3TE1JD2UXM|B013W7LS44|     745014875|     Best of Enemies|       Video DVD|          5|           40|         44|   N|                N|    The War of Words|Having been put o...| 2015-08-30|\n",
            "|         US|     110262|R22X6BZQKZA30V|B0034G4P8A|     678332854|      Thor [Blu-ray]|       Video DVD|          1|           29|         34|   N|                Y|Love the movie bu...|The case of the d...| 2015-08-30|\n",
            "|         US|   49989773| RS3V339OCGT2D|B014LIIYPY|     674775405|            War Room|       Video DVD|          5|           84|         97|   N|                N|    A Call to Prayer|Just saw War Room...| 2015-08-30|\n",
            "|         US|   16617577| RCZ5IXAQ4J4NQ|B00ZGRMTLA|     833735950|The Cosby Show - ...|       Video DVD|          5|           22|         36|   N|                N|you can't deny th...|I grew up watchin...| 2015-08-30|\n",
            "|         US|   28118049| ROS0GMA6IUSCP|B00M3IVDH6|     723604757|             Rusalka|       Video DVD|          5|           34|         36|   N|                N|This is the Rusal...|Non-opera folks d...| 2015-08-30|\n",
            "+-----------+-----------+--------------+----------+--------------+--------------------+----------------+-----------+-------------+-----------+----+-----------------+--------------------+--------------------+-----------+\n",
            "only showing top 20 rows\n",
            "\n"
          ],
          "name": "stdout"
        }
      ]
    },
    {
      "cell_type": "code",
      "metadata": {
        "colab": {
          "base_uri": "https://localhost:8080/"
        },
        "id": "pKmicqgSCFGn",
        "outputId": "1eae097b-96e5-42d9-f463-d78b238667c2"
      },
      "source": [
        "# filter dataframe to create a new table containing Vine program (paid) reviews\n",
        "helpful_votes_df.filter(helpful_votes_df[\"vine\"] == \"Y\").show()"
      ],
      "execution_count": 8,
      "outputs": [
        {
          "output_type": "stream",
          "text": [
            "+-----------+-----------+--------------+----------+--------------+--------------------+----------------+-----------+-------------+-----------+----+-----------------+--------------------+--------------------+-----------+\n",
            "|marketplace|customer_id|     review_id|product_id|product_parent|       product_title|product_category|star_rating|helpful_votes|total_votes|vine|verified_purchase|     review_headline|         review_body|review_date|\n",
            "+-----------+-----------+--------------+----------+--------------+--------------------+----------------+-----------+-------------+-----------+----+-----------------+--------------------+--------------------+-----------+\n",
            "|         US|   27249597|R3PBQ665MBL8CP|B00E1LT41K|     592331046|The White Queen: ...|       Video DVD|          3|           66|         72|   Y|                N|An enjoyable watc...|I enjoyed this TV...| 2014-03-27|\n",
            "|         US|   37876368|R3EMD30K7MNOZ0|B00A27OMKU|     678954891|Shiva Rea: Yoga i...|       Video DVD|          2|           20|         25|   Y|                N|I ended up doing ...|I consider myself...| 2014-03-05|\n",
            "|         US|   49251765|R2GF3ZLO2B0Y71|B00FEHCR1E|     769938939|Element: Barre Co...|       Video DVD|          5|          236|        243|   Y|                N|A fun workout I l...|I won't review a ...| 2014-02-18|\n",
            "|         US|   18039745|R1F8T2Z7U3N6HL|B00E1LR2B4|     419560728|20 Feet from Stardom|       Video DVD|          3|           11|         20|   Y|                N|Very Interesting,...|This is a hard re...| 2014-02-02|\n",
            "|         US|   49332535| R5QTOT1GVR8RG|B00E8A0OZ4|     474546272|Element: Targeted...|       Video DVD|          4|           16|         20|   Y|                N|You'll Feel the Burn|This Pilates prog...| 2013-12-12|\n",
            "|         US|   51664778|R1KAQEESF0NUGV|B009AJB0YM|     901937989|            10 Years|       Video DVD|          4|           27|         29|   Y|                N|Very realistic re...|Have you been to ...| 2013-01-04|\n",
            "|         US|   29471115|R1621B9AMVWI25|B005GYXNT0|     599791357|AGELESS WITH KATH...|       Video DVD|          2|           27|         29|   Y|                N|       For Beginners|I think this work...| 2012-06-19|\n",
            "|         US|   49253523|R3FVGQVNBAZL8E|B0059XTUR2|      15783541|          Coriolanus|       Video DVD|          3|           37|         44|   Y|                N|  Modern Shakespeare|Ralph Fiennes dir...| 2012-05-29|\n",
            "|         US|   11936223|R26ATTA765WHVX|B004UXUUDA|     776655951|         Sarah's Key|       Video DVD|          5|           21|         23|   Y|                N|Dark Moment in Fr...|.<br /><br />A se...| 2011-12-14|\n",
            "|         US|   27826858| RMZYPFKES1ZK7|B004UXUWEC|      52053011|   Our Idiot Brother|       Video DVD|          4|           29|         33|   Y|                N|Great stuff... ev...|Paul Rudd's very ...| 2011-12-07|\n",
            "|         US|   44800986|R14DF0WKENBB1W|B004UVYQVY|     925763491|Happythankyoumore...|       Video DVD|          4|           18|         21|   Y|                N|Lonely Young New ...|Sam Wexler is a l...| 2011-07-19|\n",
            "|         US|   33354780| RP8XXEUSRVK9W|B0040319AS|     301286610|          RoboGeisha|       Video DVD|          3|           18|         22|   Y|                N|It was okay...but...|To prepare for my...| 2011-06-26|\n",
            "|         US|   43449150|R385PHNA6E3GNZ|B0049P1VHS|       6696857|The Walking Dead:...|       Video DVD|          5|           32|         43|   Y|                Y|Too scary to watc...|I would not descr...| 2011-05-19|\n",
            "|         US|   52858497|R3EF1FW33JGPV0|B004EC5ITI|     276915999|        The Resident|       Video DVD|          1|           24|         30|   Y|                N|Let me do a favor...|Normally I don't ...| 2011-05-15|\n",
            "|         US|   51728481|R1QFLL874C1LYW|B0034G4OVS|     926630292|              Frozen|       Video DVD|          1|           15|         27|   Y|                N|Thrilling start, ...|This movie is a c...| 2010-12-21|\n",
            "|         US|   37760327|R3K1A9MD4PVRH4|B0034G4OVS|     926630292|              Frozen|       Video DVD|          2|           26|         37|   Y|                N|Zip up the darn c...|***mild spoilers*...| 2010-10-16|\n",
            "|         US|   50161691| RL6DMOWQJ56DX|B003PIUBZS|     800032943|Spartacus: Blood ...|       Video DVD|          3|           19|         27|   Y|                N|The muscles of gl...|This is a histori...| 2010-10-12|\n",
            "|         US|   32960447|R2WDJTCP0CO4OF|B002ECJZ76|     622032759|     Christmas Story|       Video DVD|          4|           26|         28|   Y|                N|Tired of the comm...|Most people will ...| 2009-12-16|\n",
            "|         US|   51390754| R9XFFVNYHTDOC|B001V9LPWQ|     236964722|Snow White and th...|       Video DVD|          3|          355|        404|   Y|                N|Do the enhancemen...|Side-by-side, I w...| 2009-10-21|\n",
            "|         US|   17493059|R1ZMSEURPMYSEB|B001UV4XGU|     231834560|   Sunshine Cleaning|       Video DVD|          4|           18|         20|   Y|                N|bringing sunshine...|A very enjoyable ...| 2009-09-08|\n",
            "+-----------+-----------+--------------+----------+--------------+--------------------+----------------+-----------+-------------+-----------+----+-----------------+--------------------+--------------------+-----------+\n",
            "only showing top 20 rows\n",
            "\n"
          ],
          "name": "stdout"
        }
      ]
    },
    {
      "cell_type": "code",
      "metadata": {
        "colab": {
          "base_uri": "https://localhost:8080/"
        },
        "id": "fMY9_zhmLsv8",
        "outputId": "8b48d232-78f4-43d9-99a1-8667f6f07d39"
      },
      "source": [
        "helpful_votes_df.filter(helpful_votes_df[\"vine\"] == \"N\").show()"
      ],
      "execution_count": 25,
      "outputs": [
        {
          "output_type": "stream",
          "text": [
            "+-----------+-----------+--------------+----------+--------------+--------------------+----------------+-----------+-------------+-----------+----+-----------------+--------------------+--------------------+-----------+\n",
            "|marketplace|customer_id|     review_id|product_id|product_parent|       product_title|product_category|star_rating|helpful_votes|total_votes|vine|verified_purchase|     review_headline|         review_body|review_date|\n",
            "+-----------+-----------+--------------+----------+--------------+--------------------+----------------+-----------+-------------+-----------+----+-----------------+--------------------+--------------------+-----------+\n",
            "|         US|   44783596|R31EUR60FV3BU5|B00ZGPZR9I|     514136181|  Wodehouse in Exile|       Video DVD|          4|           32|         39|   N|                N|Unfair Accusation...|Amazed after Wode...| 2015-08-31|\n",
            "|         US|   12720421|R3MDX24QDAT0OW|B00ZCHTQGA|     779817400|Northmen - A Viki...|       Video DVD|          4|           35|         37|   N|                N|I wont steer you ...|Do not watch this...| 2015-08-31|\n",
            "|         US|    6402628|R2YVFZB4ESDT7D|B00XUV1B4U|     881344665|Mad Max Anthology...|       Video DVD|          5|          139|        141|   N|                Y|All Four Movies R...|Here's what you'r...| 2015-08-31|\n",
            "|         US|   12160741|R2R8EWH1JUZCSI|B014LIIXZ0|     674775405|War Room (Blu-ray...|       Video DVD|          5|           16|         21|   N|                N|This is a must ha...|An amazing movie ...| 2015-08-31|\n",
            "|         US|   37255383|R3I8GORXGEJL3R|B014GDAVLE|     326486182|           No Escape|       Video DVD|          4|           95|        103|   N|                Y|Owen Lives To Not...|People forget tha...| 2015-08-31|\n",
            "|         US|   44167709| RONWXF0J85CRR|B011MUA5J2|     274516834|Mission: Impossib...|       Video DVD|          5|           42|         50|   N|                N|Original Mission ...|Mission: Impossib...| 2015-08-31|\n",
            "|         US|   46318293|R2QQJIJZIUSQBH|B012O29DR2|     690183613|Little House On T...|       Video DVD|          1|           16|         20|   N|                N|No blu-ray   No p...|I will not purcha...| 2015-08-31|\n",
            "|         US|   38379823|R3O7T74HRIXBE5|B00XOAPFH6|     814178366|Sherlock Holmes (...|       Video DVD|          5|           53|         55|   N|                Y|LOST AND FOUND re...|I have assembled ...| 2015-08-31|\n",
            "|         US|   10415926| RSU37FK0W4DPE|B0112HPTCI|     846758128|           Boulevard|       Video DVD|          4|           26|         28|   N|                N|Very poetic that ...|&#34;Sometimes it...| 2015-08-31|\n",
            "|         US|   28573806|R22H100N6EUD0Y|B00ZGIOL8I|     983780520|Hammer Film Colle...|       Video DVD|          5|           30|         32|   N|                Y|Excellent studio ...|Excellent studio ...| 2015-08-30|\n",
            "|         US|   14636800| R4VC9LDQGIE5K|B0117V8BX8|     226530484|The Collected Wor...|       Video DVD|          5|           26|         37|   N|                N|For those wonderi...|For those wonderi...| 2015-08-30|\n",
            "|         US|   13876058| RWMH3PU2EECVA|B00YQTDJ40|     953802771|            Seashore|       Video DVD|          5|           35|         38|   N|                Y|So much to savor ...|This film is deep...| 2015-08-30|\n",
            "|         US|   52715519|R2XTQWXL65VPOZ|B00SGYZJZS|     477021665|Phoenix (2014) [ ...|       Video DVD|          4|           22|         24|   N|                N|4.5 stars... Anot...|&#34;Phoenix&#34;...| 2015-08-30|\n",
            "|         US|   23055587| RGIM9S035SVIA|B01169X9Z6|     490379100|           Self/less|       Video DVD|          4|           38|         44|   N|                N|Reminiscent of th...|While by no means...| 2015-08-30|\n",
            "|         US|   11650105|R18ZPPQ2CZKG41|B00ZS21LMQ|     507953360|The Man From U.N....|       Video DVD|          5|           16|         20|   N|                N|New Favorite Movi...|This is absolutel...| 2015-08-30|\n",
            "|         US|   51803143|R2FK3TE1JD2UXM|B013W7LS44|     745014875|     Best of Enemies|       Video DVD|          5|           40|         44|   N|                N|    The War of Words|Having been put o...| 2015-08-30|\n",
            "|         US|     110262|R22X6BZQKZA30V|B0034G4P8A|     678332854|      Thor [Blu-ray]|       Video DVD|          1|           29|         34|   N|                Y|Love the movie bu...|The case of the d...| 2015-08-30|\n",
            "|         US|   49989773| RS3V339OCGT2D|B014LIIYPY|     674775405|            War Room|       Video DVD|          5|           84|         97|   N|                N|    A Call to Prayer|Just saw War Room...| 2015-08-30|\n",
            "|         US|   16617577| RCZ5IXAQ4J4NQ|B00ZGRMTLA|     833735950|The Cosby Show - ...|       Video DVD|          5|           22|         36|   N|                N|you can't deny th...|I grew up watchin...| 2015-08-30|\n",
            "|         US|   28118049| ROS0GMA6IUSCP|B00M3IVDH6|     723604757|             Rusalka|       Video DVD|          5|           34|         36|   N|                N|This is the Rusal...|Non-opera folks d...| 2015-08-30|\n",
            "+-----------+-----------+--------------+----------+--------------+--------------------+----------------+-----------+-------------+-----------+----+-----------------+--------------------+--------------------+-----------+\n",
            "only showing top 20 rows\n",
            "\n"
          ],
          "name": "stdout"
        }
      ]
    },
    {
      "cell_type": "code",
      "metadata": {
        "colab": {
          "base_uri": "https://localhost:8080/"
        },
        "id": "KPhQJnzIEz1H",
        "outputId": "a159c08e-9ab8-4aeb-f07c-5c0eab9cd40e"
      },
      "source": [
        "# total number of 5 star ratings\n",
        "fivestar = helpful_votes_df.filter(helpful_votes_df[\"star_rating\"] == 5)\n",
        "fivestar.cache()"
      ],
      "execution_count": 14,
      "outputs": [
        {
          "output_type": "execute_result",
          "data": {
            "text/plain": [
              "DataFrame[marketplace: string, customer_id: int, review_id: string, product_id: string, product_parent: int, product_title: string, product_category: string, star_rating: int, helpful_votes: int, total_votes: int, vine: string, verified_purchase: string, review_headline: string, review_body: string, review_date: string]"
            ]
          },
          "metadata": {
            "tags": []
          },
          "execution_count": 14
        }
      ]
    },
    {
      "cell_type": "code",
      "metadata": {
        "colab": {
          "base_uri": "https://localhost:8080/"
        },
        "id": "R8BkMXHzFXhG",
        "outputId": "45a25cc8-6a3e-45d3-8862-fd1af269d555"
      },
      "source": [
        "fivestar.count()"
      ],
      "execution_count": 15,
      "outputs": [
        {
          "output_type": "execute_result",
          "data": {
            "text/plain": [
              "78070"
            ]
          },
          "metadata": {
            "tags": []
          },
          "execution_count": 15
        }
      ]
    },
    {
      "cell_type": "code",
      "metadata": {
        "colab": {
          "base_uri": "https://localhost:8080/"
        },
        "id": "MUn1Ozd-FuvS",
        "outputId": "0a75be40-fcef-4086-f378-e60ca8842013"
      },
      "source": [
        "#total number of reviews\n",
        "helpful_votes_df.count()"
      ],
      "execution_count": 16,
      "outputs": [
        {
          "output_type": "execute_result",
          "data": {
            "text/plain": [
              "151449"
            ]
          },
          "metadata": {
            "tags": []
          },
          "execution_count": 16
        }
      ]
    },
    {
      "cell_type": "code",
      "metadata": {
        "colab": {
          "base_uri": "https://localhost:8080/"
        },
        "id": "bcpsNkQ3MRKV",
        "outputId": "ecc6581f-008f-42db-e120-2810a0092609"
      },
      "source": [
        "# total number of paid vine reviewers\n",
        "helpful_votes_df.filter(helpful_votes_df[\"vine\"] == \"Y\").count()"
      ],
      "execution_count": 38,
      "outputs": [
        {
          "output_type": "execute_result",
          "data": {
            "text/plain": [
              "49"
            ]
          },
          "metadata": {
            "tags": []
          },
          "execution_count": 38
        }
      ]
    },
    {
      "cell_type": "code",
      "metadata": {
        "colab": {
          "base_uri": "https://localhost:8080/"
        },
        "id": "SP75j2DyNWUb",
        "outputId": "ef41c731-34d0-474f-970e-04829f5d0216"
      },
      "source": [
        "# paid vine reviewers that were 5 star\n",
        "fivestar.filter(fivestar[\"vine\"] == \"Y\").count()"
      ],
      "execution_count": 30,
      "outputs": [
        {
          "output_type": "execute_result",
          "data": {
            "text/plain": [
              "9"
            ]
          },
          "metadata": {
            "tags": []
          },
          "execution_count": 30
        }
      ]
    },
    {
      "cell_type": "code",
      "metadata": {
        "colab": {
          "base_uri": "https://localhost:8080/"
        },
        "id": "IriygNR0Nw0W",
        "outputId": "e66f2c29-49c0-45dc-e664-e3007bd674a9"
      },
      "source": [
        "# total number of unpaid vine reviers\n",
        "helpful_votes_df.filter(helpful_votes_df[\"vine\"] == \"N\").count()"
      ],
      "execution_count": 39,
      "outputs": [
        {
          "output_type": "execute_result",
          "data": {
            "text/plain": [
              "151400"
            ]
          },
          "metadata": {
            "tags": []
          },
          "execution_count": 39
        }
      ]
    },
    {
      "cell_type": "code",
      "metadata": {
        "colab": {
          "base_uri": "https://localhost:8080/"
        },
        "id": "hS76CQmfMRaz",
        "outputId": "d6d123c5-988f-4fd2-b81f-8680cac57f35"
      },
      "source": [
        "# total of non-vine reviews\n",
        "fivestar.filter(fivestar[\"vine\"] == \"N\").count()"
      ],
      "execution_count": 32,
      "outputs": [
        {
          "output_type": "execute_result",
          "data": {
            "text/plain": [
              "78061"
            ]
          },
          "metadata": {
            "tags": []
          },
          "execution_count": 32
        }
      ]
    },
    {
      "cell_type": "code",
      "metadata": {
        "colab": {
          "base_uri": "https://localhost:8080/"
        },
        "id": "hwaNg9o8GJTN",
        "outputId": "c08797ef-b57e-4ba0-fae2-e43517e1f7c9"
      },
      "source": [
        "# percentage of five star reviews from vine reviewersfivestar.filter\n",
        "fivestar.filter(fivestar[\"vine\"] == \"Y\").count() / helpful_votes_df.filter(helpful_votes_df[\"vine\"] == \"Y\").count()"
      ],
      "execution_count": 41,
      "outputs": [
        {
          "output_type": "execute_result",
          "data": {
            "text/plain": [
              "0.1836734693877551"
            ]
          },
          "metadata": {
            "tags": []
          },
          "execution_count": 41
        }
      ]
    },
    {
      "cell_type": "code",
      "metadata": {
        "colab": {
          "base_uri": "https://localhost:8080/"
        },
        "id": "28xVJg1KOsmk",
        "outputId": "0ab47ee3-07dc-4c01-cc31-4bba52f18c14"
      },
      "source": [
        "fivestar.filter(fivestar[\"vine\"] == \"N\").count() / helpful_votes_df.filter(helpful_votes_df[\"vine\"] == \"N\").count()"
      ],
      "execution_count": 40,
      "outputs": [
        {
          "output_type": "execute_result",
          "data": {
            "text/plain": [
              "0.5155944517833554"
            ]
          },
          "metadata": {
            "tags": []
          },
          "execution_count": 40
        }
      ]
    }
  ]
}